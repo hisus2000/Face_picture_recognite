{
  "nbformat": 4,
  "nbformat_minor": 0,
  "metadata": {
    "accelerator": "GPU",
    "colab": {
      "name": "Huan_luyen.ipynb",
      "provenance": [],
      "collapsed_sections": []
    },
    "kernelspec": {
      "display_name": "Python 3",
      "name": "python3"
    },
    "language_info": {
      "name": "python"
    }
  },
  "cells": [
    {
      "cell_type": "code",
      "metadata": {
        "colab": {
          "base_uri": "https://localhost:8080/"
        },
        "id": "RJjuUOku0Z8a",
        "outputId": "33a103b9-cbf5-4991-d14f-879538e83abe"
      },
      "source": [
        "import tensorflow as tf \n",
        "from tensorflow import keras\n",
        "from tensorflow.keras import Sequential\n",
        "from tensorflow.keras.layers import Conv2D\n",
        "from tensorflow.keras.layers import MaxPooling2D\n",
        "from tensorflow.keras.layers import Flatten\n",
        "from tensorflow.keras.layers import Dense, Dropout\n",
        "print(\"Done!\")"
      ],
      "execution_count": null,
      "outputs": [
        {
          "output_type": "stream",
          "text": [
            "Done!\n"
          ],
          "name": "stdout"
        }
      ]
    },
    {
      "cell_type": "code",
      "metadata": {
        "colab": {
          "base_uri": "https://localhost:8080/"
        },
        "id": "IqRvEivG0elR",
        "outputId": "0eb74f7e-397f-4e88-a301-1458a744cf29"
      },
      "source": [
        "import warnings \n",
        "warnings.filterwarnings('ignore')\n",
        "print(\"Done!\")"
      ],
      "execution_count": null,
      "outputs": [
        {
          "output_type": "stream",
          "text": [
            "Done!\n"
          ],
          "name": "stdout"
        }
      ]
    },
    {
      "cell_type": "code",
      "metadata": {
        "colab": {
          "base_uri": "https://localhost:8080/"
        },
        "id": "JnWvXAe00i28",
        "outputId": "6f2027e6-fa7a-4167-99e5-796f89ffa3f6"
      },
      "source": [
        "#initialising the CNN\n",
        "classifier = Sequential()\n",
        "#step1 - Convolution\n",
        "classifier.add(Conv2D(128,(3,3), input_shape =(256,256,3), activation ='relu'))\n",
        "classifier.add(MaxPooling2D(pool_size =(2,2)))\n",
        "classifier.add(Conv2D(32,(3,3),activation ='relu'))\n",
        "classifier.add(MaxPooling2D(pool_size =(2,2)))\n",
        "classifier.add(Flatten())\n",
        "classifier.add(Dense(units = 128, activation = 'relu')) \n",
        "classifier.add(Dense(units = 64, activation = 'relu')) \n",
        "classifier.add(Dropout(0.2)) \n",
        "classifier.add(Dense(units = 6, activation = 'softmax'))\n",
        "# Compiling the CNN\n",
        "classifier.compile(optimizer = 'adam', loss = 'categorical_crossentropy', metrics = ['accuracy'])\n",
        "\n",
        "print(\"Done!\")"
      ],
      "execution_count": null,
      "outputs": [
        {
          "output_type": "stream",
          "text": [
            "Done!\n"
          ],
          "name": "stdout"
        }
      ]
    },
    {
      "cell_type": "code",
      "metadata": {
        "colab": {
          "base_uri": "https://localhost:8080/"
        },
        "id": "3xPj0T1M0nH7",
        "outputId": "9c55b994-f9a9-48d6-d86a-24dbebcf4627"
      },
      "source": [
        "classifier.summary()"
      ],
      "execution_count": null,
      "outputs": [
        {
          "output_type": "stream",
          "text": [
            "Model: \"sequential\"\n",
            "_________________________________________________________________\n",
            "Layer (type)                 Output Shape              Param #   \n",
            "=================================================================\n",
            "conv2d (Conv2D)              (None, 254, 254, 128)     3584      \n",
            "_________________________________________________________________\n",
            "max_pooling2d (MaxPooling2D) (None, 127, 127, 128)     0         \n",
            "_________________________________________________________________\n",
            "conv2d_1 (Conv2D)            (None, 125, 125, 32)      36896     \n",
            "_________________________________________________________________\n",
            "max_pooling2d_1 (MaxPooling2 (None, 62, 62, 32)        0         \n",
            "_________________________________________________________________\n",
            "flatten (Flatten)            (None, 123008)            0         \n",
            "_________________________________________________________________\n",
            "dense (Dense)                (None, 128)               15745152  \n",
            "_________________________________________________________________\n",
            "dense_1 (Dense)              (None, 64)                8256      \n",
            "_________________________________________________________________\n",
            "dropout (Dropout)            (None, 64)                0         \n",
            "_________________________________________________________________\n",
            "dense_2 (Dense)              (None, 6)                 390       \n",
            "=================================================================\n",
            "Total params: 15,794,278\n",
            "Trainable params: 15,794,278\n",
            "Non-trainable params: 0\n",
            "_________________________________________________________________\n"
          ],
          "name": "stdout"
        }
      ]
    },
    {
      "cell_type": "code",
      "metadata": {
        "colab": {
          "base_uri": "https://localhost:8080/"
        },
        "id": "tXrVqNok0q2P",
        "outputId": "30982210-6e82-4632-d1c7-0d7103fb9608"
      },
      "source": [
        "from google.colab import drive\n",
        "drive.mount(\"/content/gdrive\", force_remount=True)"
      ],
      "execution_count": null,
      "outputs": [
        {
          "output_type": "stream",
          "text": [
            "Mounted at /content/gdrive\n"
          ],
          "name": "stdout"
        }
      ]
    },
    {
      "cell_type": "code",
      "metadata": {
        "colab": {
          "base_uri": "https://localhost:8080/"
        },
        "id": "moR9jC7x0x7x",
        "outputId": "d7ff019b-9670-4689-d85d-5dcee31e4526"
      },
      "source": [
        "%cd \"gdrive/MyDrive/project/CNN\""
      ],
      "execution_count": null,
      "outputs": [
        {
          "output_type": "stream",
          "text": [
            "/content/gdrive/MyDrive/project/CNN\n"
          ],
          "name": "stdout"
        }
      ]
    },
    {
      "cell_type": "code",
      "metadata": {
        "colab": {
          "base_uri": "https://localhost:8080/"
        },
        "id": "DA28Fs7VymV4",
        "outputId": "b6d5e220-c712-4781-ee23-29c6aaa2d3ba"
      },
      "source": [
        "%ls"
      ],
      "execution_count": null,
      "outputs": [
        {
          "output_type": "stream",
          "text": [
            "model_checkpoint_new.h5  \u001b[0m\u001b[01;34msingle_prediction\u001b[0m/  \u001b[01;34mtraining_test\u001b[0m/\n",
            "my_model_CNN_new.h5      \u001b[01;34mtest_set\u001b[0m/\n"
          ],
          "name": "stdout"
        }
      ]
    },
    {
      "cell_type": "code",
      "metadata": {
        "id": "awBJUYcl1Q5n"
      },
      "source": [
        "from tensorflow.keras.preprocessing.image import ImageDataGenerator\n",
        "train_datagen = ImageDataGenerator(rescale =1./255,\n",
        "                                   shear_range = 0.2,\n",
        "                                   zoom_range = 0.2,\n",
        "                                   horizontal_flip = True)"
      ],
      "execution_count": null,
      "outputs": []
    },
    {
      "cell_type": "code",
      "metadata": {
        "colab": {
          "base_uri": "https://localhost:8080/"
        },
        "id": "WsZXoCxZ1X-_",
        "outputId": "2ef67115-f879-404f-9ad1-acc3dfc67535"
      },
      "source": [
        "training_set = train_datagen.flow_from_directory('/content/gdrive/MyDrive/project/CNN/training_test',\n",
        "                                                target_size =(256,256),\n",
        "                                                batch_size =32,\n",
        "                                                class_mode = 'categorical')"
      ],
      "execution_count": null,
      "outputs": [
        {
          "output_type": "stream",
          "text": [
            "Found 221 images belonging to 6 classes.\n"
          ],
          "name": "stdout"
        }
      ]
    },
    {
      "cell_type": "code",
      "metadata": {
        "colab": {
          "base_uri": "https://localhost:8080/"
        },
        "id": "GAHD6hRk1fT9",
        "outputId": "f5f16c09-d0f9-481c-e5f8-1c0e812e4df6"
      },
      "source": [
        "print(len(training_set))"
      ],
      "execution_count": null,
      "outputs": [
        {
          "output_type": "stream",
          "text": [
            "7\n"
          ],
          "name": "stdout"
        }
      ]
    },
    {
      "cell_type": "code",
      "metadata": {
        "colab": {
          "base_uri": "https://localhost:8080/"
        },
        "id": "f2T7yxLp1-a2",
        "outputId": "114634f6-fd76-45c1-d57c-e6b2d0fb7f0f"
      },
      "source": [
        "test_set = train_datagen.flow_from_directory('/content/gdrive/MyDrive/project/CNN/test_set',\n",
        "                                                target_size =(256,256),\n",
        "                                                batch_size =32,\n",
        "                                                class_mode = 'categorical')"
      ],
      "execution_count": null,
      "outputs": [
        {
          "output_type": "stream",
          "text": [
            "Found 1061 images belonging to 6 classes.\n"
          ],
          "name": "stdout"
        }
      ]
    },
    {
      "cell_type": "code",
      "metadata": {
        "colab": {
          "base_uri": "https://localhost:8080/"
        },
        "id": "inbI4uwk2Bzp",
        "outputId": "9d1000f6-e42b-4a86-d440-536313180472"
      },
      "source": [
        "print(len(test_set))"
      ],
      "execution_count": null,
      "outputs": [
        {
          "output_type": "stream",
          "text": [
            "34\n"
          ],
          "name": "stdout"
        }
      ]
    },
    {
      "cell_type": "code",
      "metadata": {
        "colab": {
          "base_uri": "https://localhost:8080/"
        },
        "id": "kdeDkihh2Fo0",
        "outputId": "5b9695a0-862f-4400-87c2-1f94d2fc3a04"
      },
      "source": [
        "from tensorflow.keras.callbacks import EarlyStopping, ModelCheckpoint\n",
        "callbacks =[EarlyStopping(monitor = 'val_loss', patience =5),ModelCheckpoint('model_checkpoint_new.h5', save_best_only = True)]\n",
        "print(\"done\")"
      ],
      "execution_count": null,
      "outputs": [
        {
          "output_type": "stream",
          "text": [
            "done\n"
          ],
          "name": "stdout"
        }
      ]
    },
    {
      "cell_type": "code",
      "metadata": {
        "colab": {
          "base_uri": "https://localhost:8080/"
        },
        "id": "kSxSU8Tw2IMP",
        "outputId": "86efe4c5-c597-4071-8de6-782097ff0a6a"
      },
      "source": [
        "classifier.fit(training_set,\n",
        "              steps_per_epoch =len(training_set),\n",
        "               epochs = 150, \n",
        "              validation_data = test_set,\n",
        "              validation_steps = len(test_set),\n",
        "              callbacks = callbacks)"
      ],
      "execution_count": null,
      "outputs": [
        {
          "output_type": "stream",
          "text": [
            "Epoch 1/150\n",
            "7/7 [==============================] - 369s 55s/step - loss: 3.5564 - accuracy: 0.2579 - val_loss: 1.7752 - val_accuracy: 0.1084\n",
            "Epoch 2/150\n",
            "7/7 [==============================] - 17s 3s/step - loss: 1.6947 - accuracy: 0.3122 - val_loss: 1.7529 - val_accuracy: 0.1018\n",
            "Epoch 3/150\n",
            "7/7 [==============================] - 17s 3s/step - loss: 1.5272 - accuracy: 0.3258 - val_loss: 1.6826 - val_accuracy: 0.2469\n",
            "Epoch 4/150\n",
            "7/7 [==============================] - 17s 3s/step - loss: 1.3657 - accuracy: 0.3937 - val_loss: 1.5611 - val_accuracy: 0.1404\n",
            "Epoch 5/150\n",
            "7/7 [==============================] - 17s 3s/step - loss: 0.9330 - accuracy: 0.6425 - val_loss: 0.8629 - val_accuracy: 0.6927\n",
            "Epoch 6/150\n",
            "7/7 [==============================] - 17s 3s/step - loss: 0.5036 - accuracy: 0.8416 - val_loss: 0.4837 - val_accuracy: 0.8690\n",
            "Epoch 7/150\n",
            "7/7 [==============================] - 17s 3s/step - loss: 0.2939 - accuracy: 0.8914 - val_loss: 0.4899 - val_accuracy: 0.8624\n",
            "Epoch 8/150\n",
            "7/7 [==============================] - 16s 3s/step - loss: 0.2067 - accuracy: 0.9321 - val_loss: 0.4519 - val_accuracy: 0.8718\n",
            "Epoch 9/150\n",
            "7/7 [==============================] - 17s 3s/step - loss: 0.1203 - accuracy: 0.9548 - val_loss: 0.3572 - val_accuracy: 0.9359\n",
            "Epoch 10/150\n",
            "7/7 [==============================] - 17s 3s/step - loss: 0.0649 - accuracy: 0.9819 - val_loss: 0.4857 - val_accuracy: 0.8624\n",
            "Epoch 11/150\n",
            "7/7 [==============================] - 16s 3s/step - loss: 0.0658 - accuracy: 0.9774 - val_loss: 0.2871 - val_accuracy: 0.9538\n",
            "Epoch 12/150\n",
            "7/7 [==============================] - 17s 3s/step - loss: 0.1134 - accuracy: 0.9457 - val_loss: 0.4992 - val_accuracy: 0.8558\n",
            "Epoch 13/150\n",
            "7/7 [==============================] - 16s 3s/step - loss: 0.0661 - accuracy: 0.9774 - val_loss: 0.4525 - val_accuracy: 0.8916\n",
            "Epoch 14/150\n",
            "7/7 [==============================] - 16s 3s/step - loss: 0.0432 - accuracy: 0.9864 - val_loss: 0.3864 - val_accuracy: 0.9472\n",
            "Epoch 15/150\n",
            "7/7 [==============================] - 16s 3s/step - loss: 0.0322 - accuracy: 0.9910 - val_loss: 0.4308 - val_accuracy: 0.9180\n",
            "Epoch 16/150\n",
            "7/7 [==============================] - 16s 3s/step - loss: 0.0184 - accuracy: 1.0000 - val_loss: 0.4290 - val_accuracy: 0.9189\n"
          ],
          "name": "stdout"
        },
        {
          "output_type": "execute_result",
          "data": {
            "text/plain": [
              "<tensorflow.python.keras.callbacks.History at 0x7f6ab81312d0>"
            ]
          },
          "metadata": {
            "tags": []
          },
          "execution_count": 16
        }
      ]
    },
    {
      "cell_type": "code",
      "metadata": {
        "colab": {
          "base_uri": "https://localhost:8080/"
        },
        "id": "blK50YbM3IX6",
        "outputId": "1ff556b8-9d80-48db-9227-84ebdf0fc866"
      },
      "source": [
        "from keras.models import load_model\n",
        "#Creates a HDF5 file 'my_model_CNN.h5'\n",
        "classifier.save('my_model_CNN_new.h5')\n",
        "print(\"save!!!\")\n",
        "#creates"
      ],
      "execution_count": null,
      "outputs": [
        {
          "output_type": "stream",
          "text": [
            "save!!!\n"
          ],
          "name": "stdout"
        }
      ]
    },
    {
      "cell_type": "code",
      "metadata": {
        "id": "8rsqCtqJD-dT"
      },
      "source": [
        ""
      ],
      "execution_count": null,
      "outputs": []
    }
  ]
}