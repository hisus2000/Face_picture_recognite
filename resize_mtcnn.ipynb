{
 "cells": [
  {
   "cell_type": "code",
   "execution_count": 2,
   "metadata": {},
   "outputs": [
    {
     "name": "stdout",
     "output_type": "stream",
     "text": [
      "['images\\\\meo']\n"
     ]
    },
    {
     "name": "stderr",
     "output_type": "stream",
     "text": [
      "1it [00:00, 40.82it/s]"
     ]
    },
    {
     "name": "stdout",
     "output_type": "stream",
     "text": [
      "                                               image label name\n",
      "0  images\\meo\\6b8b69f5-3940-11ec-91d1-9cfce8c41a4...     0  meo\n",
      "1  images\\meo\\6b9583f1-3940-11ec-a202-9cfce8c41a4...     0  meo\n",
      "2  images\\meo\\6b9c8fcd-3940-11ec-b92c-9cfce8c41a4...     0  meo\n",
      "3  images\\meo\\6bb43a6e-3940-11ec-b905-9cfce8c41a4...     0  meo\n",
      "4  images\\meo\\6bb938c5-3940-11ec-8d31-9cfce8c41a4...     0  meo\n",
      "5  images\\meo\\6bbe4b9b-3940-11ec-9cf8-9cfce8c41a4...     0  meo\n",
      "images\\meo\\6b8b69f5-3940-11ec-91d1-9cfce8c41a40.jpg\n"
     ]
    },
    {
     "name": "stderr",
     "output_type": "stream",
     "text": [
      "\n"
     ]
    },
    {
     "ename": "IndexError",
     "evalue": "",
     "output_type": "error",
     "traceback": [
      "\u001b[1;31m---------------------------------------------------------------------------\u001b[0m",
      "\u001b[1;31mIndexError\u001b[0m                                Traceback (most recent call last)",
      "\u001b[1;32mC:\\Users\\DUCHIE~1\\AppData\\Local\\Temp/ipykernel_14616/836097001.py\u001b[0m in \u001b[0;36m<module>\u001b[1;34m\u001b[0m\n\u001b[0;32m     46\u001b[0m     \u001b[0mhogFaceDetector\u001b[0m \u001b[1;33m=\u001b[0m \u001b[0mdlib\u001b[0m\u001b[1;33m.\u001b[0m\u001b[0mget_frontal_face_detector\u001b[0m\u001b[1;33m(\u001b[0m\u001b[1;33m)\u001b[0m\u001b[1;33m\u001b[0m\u001b[1;33m\u001b[0m\u001b[0m\n\u001b[0;32m     47\u001b[0m     \u001b[0mfaceRects\u001b[0m \u001b[1;33m=\u001b[0m \u001b[0mhogFaceDetector\u001b[0m\u001b[1;33m(\u001b[0m\u001b[0mimage\u001b[0m\u001b[1;33m,\u001b[0m \u001b[1;36m0\u001b[0m\u001b[1;33m)\u001b[0m\u001b[1;33m\u001b[0m\u001b[1;33m\u001b[0m\u001b[0m\n\u001b[1;32m---> 48\u001b[1;33m     \u001b[0mfaceRect\u001b[0m \u001b[1;33m=\u001b[0m \u001b[0mfaceRects\u001b[0m\u001b[1;33m[\u001b[0m\u001b[1;36m0\u001b[0m\u001b[1;33m]\u001b[0m\u001b[1;33m\u001b[0m\u001b[1;33m\u001b[0m\u001b[0m\n\u001b[0m\u001b[0;32m     49\u001b[0m     \u001b[1;32mif\u001b[0m \u001b[1;33m(\u001b[0m\u001b[0mfaceRect\u001b[0m\u001b[1;33m==\u001b[0m\u001b[1;32mNone\u001b[0m\u001b[1;33m)\u001b[0m\u001b[1;33m:\u001b[0m\u001b[1;33m\u001b[0m\u001b[1;33m\u001b[0m\u001b[0m\n\u001b[0;32m     50\u001b[0m         \u001b[1;32mcontinue\u001b[0m\u001b[1;33m\u001b[0m\u001b[1;33m\u001b[0m\u001b[0m\n",
      "\u001b[1;31mIndexError\u001b[0m: "
     ]
    }
   ],
   "source": [
    "import cv2\n",
    "import glob\n",
    "import pandas as pd\n",
    "from imageio import imread,imsave\n",
    "from skimage.transform import resize\n",
    "from tqdm import tqdm\n",
    "import dlib\n",
    "train_paths = glob.glob(\"images/*\")\n",
    "print(train_paths)\n",
    "df_train = pd.DataFrame(columns=['image', 'label', 'name'])\n",
    "# Load image\n",
    "for i,train_path in tqdm(enumerate(train_paths)):\n",
    "    name = train_path.split(\"\\\\\")[-1]\n",
    "    images = glob.glob(train_path + \"/*\")\n",
    "    for image in images:\n",
    "        df_train.loc[len(df_train)]=[image,i,name]        \n",
    "print(df_train)\n",
    "# Begin Process   \n",
    "a=0\n",
    "for img_path in df_train.image:\n",
    "    print(img_path)\n",
    "    try:\n",
    "        image = imread(img_path)\n",
    "        hogFaceDetector = dlib.get_frontal_face_detector()\n",
    "        faceRects = hogFaceDetector(image, 0)\n",
    "        faceRect = faceRects[0]\n",
    "        if (faceRect==None):\n",
    "            continue\n",
    "\n",
    "        x1 = faceRect.left()\n",
    "        y1 = faceRect.top()\n",
    "        x2 = faceRect.right()\n",
    "        y2 = faceRect.bottom()\n",
    "\n",
    "        face = image[y1:y2,x1:x2]\n",
    "        img_resize = cv2.resize(src=face, dsize=(255,255))\n",
    "        imsave(img_path,img_resize)\n",
    "    except:\n",
    "        a+=1\n",
    "print(\"Exception:\", a)"
   ]
  },
  {
   "cell_type": "code",
   "execution_count": null,
   "metadata": {},
   "outputs": [],
   "source": []
  }
 ],
 "metadata": {
  "interpreter": {
   "hash": "d5720fe8ea9da385ad1ab15cb91fc46564c89ac26221a2f51195548661dca2c3"
  },
  "kernelspec": {
   "display_name": "Python 3.8.5 64-bit ('project1': conda)",
   "name": "python3"
  },
  "language_info": {
   "codemirror_mode": {
    "name": "ipython",
    "version": 3
   },
   "file_extension": ".py",
   "mimetype": "text/x-python",
   "name": "python",
   "nbconvert_exporter": "python",
   "pygments_lexer": "ipython3",
   "version": "3.8.5"
  },
  "orig_nbformat": 4
 },
 "nbformat": 4,
 "nbformat_minor": 2
}
